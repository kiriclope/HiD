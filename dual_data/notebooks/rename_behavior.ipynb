{
 "cells": [
  {
   "cell_type": "code",
   "execution_count": null,
   "id": "48863637-15ce-4b8c-a86c-9d28431b5075",
   "metadata": {
    "collapsed": false
   },
   "outputs": [],
   "source": [
    "import os\n",
    "import numpy as np"
   ]
  },
  {
   "cell_type": "markdown",
   "id": "e7ce4002-90af-413b-ae4e-58a41e5af032",
   "metadata": {
    "collapsed": false
   },
   "source": [
    "Rename folders"
   ]
  },
  {
   "cell_type": "code",
   "execution_count": null,
   "id": "8c95ab8e-8ce8-4e69-9c8d-031ae1167b2d",
   "metadata": {
    "collapsed": false
   },
   "outputs": [
    {
     "ename": "NameError",
     "evalue": "name 'os' is not defined",
     "output_type": "error",
     "traceback": [
      "\u001b[0;31m---------------------------------------------------------------------------\u001b[0m",
      "\u001b[0;31mNameError\u001b[0m                                 Traceback (most recent call last)",
      "Cell \u001b[0;32mIn[86], line 3\u001b[0m\n\u001b[1;32m      1\u001b[0m path \u001b[38;5;241m=\u001b[39m \u001b[38;5;124m'\u001b[39m\u001b[38;5;124m/home/leon/data/behavior/DualTask_DPA_vs_Single_DPA/\u001b[39m\u001b[38;5;124m'\u001b[39m\n\u001b[0;32m----> 3\u001b[0m files \u001b[38;5;241m=\u001b[39m \u001b[43mos\u001b[49m\u001b[38;5;241m.\u001b[39mlistdir(path)\n\u001b[1;32m      4\u001b[0m count\u001b[38;5;241m=\u001b[39m\u001b[38;5;241m0\u001b[39m\n\u001b[1;32m      5\u001b[0m \u001b[38;5;28;01mfor\u001b[39;00m index, folder \u001b[38;5;129;01min\u001b[39;00m \u001b[38;5;28menumerate\u001b[39m(np\u001b[38;5;241m.\u001b[39msort(files)):\n\u001b[1;32m      6\u001b[0m     \u001b[38;5;66;03m# print(index, folder)    \u001b[39;00m\n",
      "\u001b[0;31mNameError\u001b[0m: name 'os' is not defined"
     ]
    }
   ],
   "source": [
    "path = '/home/leon/data/behavior/DualTask_DPA_vs_Single_DPA/'\n",
    "\n",
    "files = os.listdir(path)\n",
    "count=0\n",
    "for index, folder in enumerate(np.sort(files)):\n",
    "    # print(index, folder)    \n",
    "    if \"DPA\" in folder:\n",
    "        print(index, folder)\n",
    "        count +=1\n",
    "        # os.rename(path + folder, path + 'DPA_mouse_%d' % index)\n",
    "        \n",
    "    if \"Dual\" in folder:\n",
    "        print(index-count, folder)        \n",
    "        # os.rename(path + folder, path + 'Dual_mouse_%d' % (index-count))\n"
   ]
  },
  {
   "cell_type": "code",
   "execution_count": null,
   "id": "f3661b8a-2d00-4acc-9963-f7c2b1b41e65",
   "metadata": {
    "collapsed": false
   },
   "outputs": [
    {
     "name": "stdout",
     "output_type": "stream",
     "text": [
      "control 0 DualTask_Box1_M17C\n",
      "laser 0 DualTask_Box1_M1E\n",
      "laser 1 DualTask_Box1_M9E\n",
      "control 1 DualTask_Box2_M10C\n",
      "laser 2 DualTask_Box2_M18E\n",
      "control 2 DualTask_Box2_M2C\n",
      "control 3 DualTask_Box3_M11C\n",
      "laser 3 DualTask_Box3_M19E\n",
      "control 4 DualTask_Box3_M3C\n",
      "control 5 DualTask_Box5_M13C\n",
      "laser 4 DualTask_Box5_M21E\n",
      "laser 5 DualTask_Box5_M5E\n",
      "control 6 DualTask_Box6_M14C\n",
      "control 7 DualTask_Box6_M22C\n",
      "control 8 DualTask_Box6_M6C\n",
      "laser 6 DualTask_Box7_M15E\n",
      "control 9 DualTask_Box7_M23C\n",
      "control 10 DualTask_Box7_M7C\n",
      "laser 7 DualTask_Box8_M16E\n",
      "laser 8 DualTask_Box8_M24E\n",
      "laser 9 DualTask_Box8_M8E\n"
     ]
    }
   ],
   "source": [
    "# path = '/home/leon/data/behavior/DualTask_DPA_vs_Single_DPA/'\n",
    "# path = '/home/leon/data/behavior/DualTask-Silencing-ACC-Prl/'\n",
    "path = '/home/leon/data/behavior/DualTask-Silencing-ACC/'\n",
    "\n",
    "files = os.listdir(path)\n",
    "count=0\n",
    "count_1=0\n",
    "for index, folder in enumerate(np.sort(files)):\n",
    "    \n",
    "    if folder.endswith(\"C\"):\n",
    "        print(\"control\", count, folder)\n",
    "        # os.rename(path + folder, path + 'control_mouse_%d' % count)\n",
    "        count +=1\n",
    "        \n",
    "    if folder.endswith(\"E\"):\n",
    "        print(\"laser\", count_1, folder)\n",
    "        # os.rename(path + folder, path + 'opto_mouse_%d' % count_1)\n",
    "        count_1 +=1"
   ]
  },
  {
   "cell_type": "markdown",
   "id": "787ae9b4-0f4d-4f82-9985-a8eca7a39855",
   "metadata": {
    "collapsed": false
   },
   "source": [
    "Rename files"
   ]
  },
  {
   "cell_type": "code",
   "execution_count": null,
   "id": "8d4b6a20-3f11-48cc-b091-9c9494e25400",
   "metadata": {
    "collapsed": false
   },
   "outputs": [],
   "source": [
    "\n",
    "for i in range(8):\n",
    "    path = '/home/leon/data/behavior/DualTask_DPA_vs_Single_DPA/Dual_mouse_%d/' % i\n",
    "    files = os.listdir(path)\n",
    "    \n",
    "    for index, folder in enumerate(np.sort(files)):\n",
    "        # print(path+folder)\n",
    "        try:\n",
    "            files = os.listdir(path + folder)\n",
    "            for i in range(len(files)):\n",
    "                if files[i].endswith(\".mat\"):\n",
    "                    print('session', index, files[i])\n",
    "                    # os.rename(path + folder + '/' + files[i], path + '/session_%d.mat' % index)\n",
    "        except:\n",
    "            pass\n",
    "    "
   ]
  },
  {
   "cell_type": "code",
   "execution_count": null,
   "id": "efdaf218-8620-47dd-9514-d7fd1f1131bd",
   "metadata": {
    "collapsed": false
   },
   "outputs": [],
   "source": [
    "\n",
    "# path = '/home/leon/data/behavior/DualTask-Silencing-ACC-Prl/'\n",
    "# path = '/home/leon/data/behavior/DualTask-Silencing-Prl-ACC/'\n",
    "# path = '/home/leon/data/behavior/DualTask-Silencing-ACC/'\n",
    "\n",
    "mice = np.sort(os.listdir(path))\n",
    "\n",
    "for i_mouse in range(mice.shape[0]):\n",
    "    mouse = mice[i_mouse]\n",
    "    files = os.listdir(path + mouse)\n",
    "    \n",
    "    for index, folder in enumerate(np.sort(files)):\n",
    "        # print(path + mouse + '/' + folder)\n",
    "        try:\n",
    "            files = os.listdir(path + mouse + '/' + folder)\n",
    "            for i in range(len(files)):\n",
    "                if files[i].endswith(\".mat\"):\n",
    "                    print('session', index, files[i])\n",
    "                    # os.rename(path + mouse + '/' + folder + '/' + files[i], path + mouse + '/session_%d.mat' % index)\n",
    "        except:\n",
    "            pass\n",
    "    "
   ]
  }
 ],
 "metadata": {
  "kernelspec": {
   "argv": [
    "/home/leon/mambaforge/bin/python",
    "-m",
    "ipykernel_launcher",
    "-f",
    "{connection_file}"
   ],
   "display_name": "Python 3 (ipykernel)",
   "env": null,
   "interrupt_mode": "signal",
   "language": "python",
   "metadata": {
    "debugger": true
   },
   "name": "python3"
  },
  "name": "rename_behavior.ipynb"
 },
 "nbformat": 4,
 "nbformat_minor": 5
}
