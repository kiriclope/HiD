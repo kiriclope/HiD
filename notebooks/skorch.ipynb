{
 "cells": [
  {
   "cell_type": "code",
   "execution_count": 139,
   "id": "1c19ddcc-bb84-43e7-9ef7-51e8ce4c70fa",
   "metadata": {
    "collapsed": false
   },
   "outputs": [],
   "source": [
    "  import torch\n",
    "  from torch import nn\n",
    "\n",
    "  import skorch\n",
    "  from skorch import NeuralNetBinaryClassifier\n",
    "  from sklearn.datasets import make_classification\n",
    "  from sklearn.model_selection import train_test_split"
   ]
  },
  {
   "cell_type": "code",
   "execution_count": 140,
   "id": "98ed8f8e-c480-45aa-9eda-00eef1213103",
   "metadata": {
    "collapsed": false
   },
   "outputs": [],
   "source": [
    "  import sys\n",
    "  sys.path.insert(0, '../')\n",
    "  \n",
    "  from src.common.get_data import get_X_y_days, get_X_y_S1_S2\n",
    "  from src.common.options import set_options\n"
   ]
  },
  {
   "cell_type": "code",
   "execution_count": 141,
   "id": "4188eb35-4b29-4032-9f72-ddcdec6880e4",
   "metadata": {
    "collapsed": false
   },
   "outputs": [],
   "source": [
    "class MyBinaryClassifier(nn.Module):\n",
    "    def __init__(self):\n",
    "        super(MyBinaryClassifier, self).__init__()\n",
    "        self.fc = nn.Linear(693, 1)\n",
    "\n",
    "    def forward(self, X):\n",
    "        return torch.sigmoid(self.fc(X))"
   ]
  },
  {
   "cell_type": "code",
   "execution_count": 173,
   "id": "05521cd9-03a1-4c0c-9a83-9db8e9e0418b",
   "metadata": {
    "collapsed": false
   },
   "outputs": [],
   "source": [
    "  mice = ['ChRM04','JawsM15', 'JawsM18', 'ACCM03', 'ACCM04']\n",
    "  tasks = ['DPA', 'DualGo', 'DualNoGo']\n",
    "  days = ['first', 'last']\n",
    "  \n",
    "  kwargs = dict()\n",
    "  kwargs = {'prescreen': None, 'pval': 0.05, 'trials': '', 'balance': 'under',\n",
    "            'method': 'bootstrap', 'bolasso_pval':0.05, 'bolasso_penalty': 'l2',\n",
    "            'bootstrap': True, 'n_boots': 1000,\n",
    "            'preprocess': True, 'scaler_BL': 'robust', 'avg_noise':True, 'unit_var_BL':False,\n",
    "            'clf':'log_loss', 'scaler': None, 'tol':0.001, 'penalty':'l2',\n",
    "            'out_fold': 'stratified', 'n_out': 5,\n",
    "            'in_fold': 'stratified', 'n_in': 5,\n",
    "            'random_state': None, 'n_repeats': 10,\n",
    "            'n_lambda': 20, 'T_WINDOW': 0.5,\n",
    "            }\n"
   ]
  },
  {
   "cell_type": "code",
   "execution_count": 178,
   "id": "d40e6fa1-b423-4190-bf97-0ed817fe245b",
   "metadata": {
    "collapsed": false
   },
   "outputs": [
    {
     "name": "stdout",
     "output_type": "stream",
     "text": [
      "loading files from /home/leon/dual_task/dual_data/data/JawsM15\n"
     ]
    },
    {
     "name": "stdout",
     "output_type": "stream",
     "text": [
      "X_days (1152, 693, 84) y_days (1152, 6)\n",
      "##########################################\n",
      "PREPROCESSING: SCALER robust AVG MEAN False AVG NOISE True UNIT VAR False\n",
      "##########################################\n"
     ]
    },
    {
     "name": "stdout",
     "output_type": "stream",
     "text": [
      "##########################################\n",
      "DATA: FEATURES sample TASK DPA TRIALS  DAYS first LASER 0\n",
      "##########################################\n",
      "multiple days 0 3 0\n",
      "X_S1 (48, 693, 84) X_S2 (48, 693, 84)\n"
     ]
    }
   ],
   "source": [
    "  options = set_options(**kwargs)\n",
    "  options['reload'] = False\n",
    "  options['data_type'] = 'raw'\n",
    "  options['DCVL'] = 0\n",
    "  options['task'] = 'DPA'\n",
    "  X_days, y_days = get_X_y_days(**options)\n",
    "  X, y = get_X_y_S1_S2(X_days, y_days, **options)"
   ]
  },
  {
   "cell_type": "code",
   "execution_count": 181,
   "id": "f6e6c19c-666d-4ee6-bf21-44abe4130811",
   "metadata": {
    "collapsed": false
   },
   "outputs": [
    {
     "name": "stdout",
     "output_type": "stream",
     "text": [
      "(8064, 693) (8064,)\n",
      "  epoch    train_loss    valid_acc    valid_loss     dur\n",
      "-------  ------------  -----------  ------------  ------\n",
      "      1        \u001b[36m0.6428\u001b[0m       \u001b[32m0.4985\u001b[0m        \u001b[35m0.9880\u001b[0m  0.0843\n"
     ]
    },
    {
     "name": "stdout",
     "output_type": "stream",
     "text": [
      "      2        \u001b[36m0.6228\u001b[0m       \u001b[32m0.4997\u001b[0m        \u001b[35m0.9747\u001b[0m  0.0800\n"
     ]
    },
    {
     "name": "stdout",
     "output_type": "stream",
     "text": [
      "      3        \u001b[36m0.5946\u001b[0m       0.4991        0.9775  0.0792\n"
     ]
    },
    {
     "name": "stdout",
     "output_type": "stream",
     "text": [
      "      4        \u001b[36m0.5822\u001b[0m       0.4947        \u001b[35m0.9745\u001b[0m  0.0795\n"
     ]
    },
    {
     "name": "stdout",
     "output_type": "stream",
     "text": [
      "      5        \u001b[36m0.5722\u001b[0m       0.4929        \u001b[35m0.9683\u001b[0m  0.0795\n"
     ]
    },
    {
     "name": "stdout",
     "output_type": "stream",
     "text": [
      "      6        \u001b[36m0.5663\u001b[0m       0.4929        \u001b[35m0.9652\u001b[0m  0.0795\n"
     ]
    },
    {
     "name": "stdout",
     "output_type": "stream",
     "text": [
      "      7        \u001b[36m0.5617\u001b[0m       0.4929        \u001b[35m0.9605\u001b[0m  0.0799\n"
     ]
    },
    {
     "name": "stdout",
     "output_type": "stream",
     "text": [
      "      8        \u001b[36m0.5590\u001b[0m       0.4916        \u001b[35m0.9582\u001b[0m  0.0793\n"
     ]
    },
    {
     "name": "stdout",
     "output_type": "stream",
     "text": [
      "      9        \u001b[36m0.5565\u001b[0m       0.4910        \u001b[35m0.9552\u001b[0m  0.0794\n"
     ]
    },
    {
     "name": "stdout",
     "output_type": "stream",
     "text": [
      "     10        \u001b[36m0.5542\u001b[0m       0.4910        \u001b[35m0.9520\u001b[0m  0.0794\n"
     ]
    }
   ],
   "source": [
    "import numpy as np\n",
    "from skorch import NeuralNetBinaryClassifier\n",
    "\n",
    "X_reshape = np.swapaxes( np.swapaxes(X, 1, 2), 0, 1)\n",
    "n_batches, n_samples_per_batch, n_features = X_reshape.shape\n",
    "\n",
    "X_flat = X_reshape.reshape(-1, n_features).astype(np.float32)\n",
    "y_flat = np.repeat(y, n_batches).astype(np.float32)\n",
    "\n",
    "print(X_flat.shape, y_flat.shape)\n",
    "# Instantiate skorch's classifier and set the batch_size to n_samples_per_batch\n",
    "net = NeuralNetBinaryClassifier(\n",
    "    MyBinaryClassifier,\n",
    "    max_epochs=10,\n",
    "    lr=0.1,\n",
    "    # batch_size=n_samples_per_batch  # This is your actual desired batch size\n",
    ")\n",
    "\n",
    "# Fit the model with the flattened data\n",
    "net.fit(X_flat, y_flat);"
   ]
  },
  {
   "cell_type": "code",
   "execution_count": 187,
   "id": "eef88196-dcb9-46a5-9470-6bfccb9b1f61",
   "metadata": {
    "collapsed": false
   },
   "outputs": [
    {
     "name": "stdout",
     "output_type": "stream",
     "text": [
      "(84, 96)\n"
     ]
    }
   ],
   "source": [
    "# Predicting and calculating accuracy per (original) batch\n",
    "# We iterate over the flattened predictions, taking slices corresponding to our original batches\n",
    "y_pred_flat = net.predict(X_flat)\n",
    "y_pred_batches = y_pred_flat.reshape(n_batches, -1)\n",
    "print(y_pred_batches.shape)"
   ]
  },
  {
   "cell_type": "code",
   "execution_count": 188,
   "id": "1b30520b-1ebf-4692-a84d-13dd39ed69ff",
   "metadata": {
    "collapsed": false
   },
   "outputs": [
    {
     "data": {
      "image/png": "[encoded data removed]",
      "text/plain": [
       "<Figure size 800x494.427 with 1 Axes>"
      ]
     },
     "metadata": {},
     "output_type": "display_data"
    }
   ],
   "source": [
    "batch_accuracies = []\n",
    "for i in range(n_batches):\n",
    "    # Compute accuracy for each batch slice from the flattened array\n",
    "    batch_accuracy = 1.0 - accuracy_score(y, y_pred_batches[i])\n",
    "    batch_accuracies.append(batch_accuracy)\n",
    "\n",
    "# Now batch_accuracies contains the accuracy for each of your original batches\n",
    "plt.plot(batch_accuracies)\n",
    "plt.show()"
   ]
  },
  {
   "cell_type": "code",
   "execution_count": 185,
   "id": "8bc1ad9b-c1c1-441f-bbe5-d4a5423e7d49",
   "metadata": {
    "collapsed": false
   },
   "outputs": [],
   "source": [
    "class RegularizedNet(NeuralNetBinaryClassifier):\n",
    "    def __init__(self, *args, lambda1=0.01, **kwargs):\n",
    "        super().__init__(*args, **kwargs)\n",
    "        self.lambda1 = lambda1\n",
    "\n",
    "    def get_loss(self, y_pred, y_true, X=None, training=False):\n",
    "        loss = super().get_loss(y_pred, y_true, X=X, training=training)\n",
    "        loss += self.lambda1 * sum([w.abs().sum() for w in self.module_.parameters()])\n",
    "        return loss"
   ]
  },
  {
   "cell_type": "code",
   "execution_count": 192,
   "id": "c7164422-370a-4e45-ad84-084141e6dbbf",
   "metadata": {
    "collapsed": false
   },
   "outputs": [
    {
     "name": "stdout",
     "output_type": "stream",
     "text": [
      "  epoch    train_loss    valid_acc    valid_loss     dur\n",
      "-------  ------------  -----------  ------------  ------\n",
      "      1        \u001b[36m0.7282\u001b[0m       \u001b[32m0.4997\u001b[0m        \u001b[35m0.9992\u001b[0m  0.1849\n"
     ]
    },
    {
     "name": "stdout",
     "output_type": "stream",
     "text": [
      "      2        \u001b[36m0.6681\u001b[0m       0.4997        \u001b[35m0.9700\u001b[0m  0.1831\n"
     ]
    },
    {
     "name": "stdout",
     "output_type": "stream",
     "text": [
      "      3        \u001b[36m0.6581\u001b[0m       0.4997        \u001b[35m0.9639\u001b[0m  0.1855\n"
     ]
    },
    {
     "name": "stdout",
     "output_type": "stream",
     "text": [
      "      4        \u001b[36m0.6549\u001b[0m       0.4997        \u001b[35m0.9611\u001b[0m  0.1849\n"
     ]
    },
    {
     "name": "stdout",
     "output_type": "stream",
     "text": [
      "      5        \u001b[36m0.6530\u001b[0m       0.4997        \u001b[35m0.9587\u001b[0m  0.1831\n"
     ]
    },
    {
     "name": "stdout",
     "output_type": "stream",
     "text": [
      "      6        \u001b[36m0.6515\u001b[0m       0.4997        \u001b[35m0.9563\u001b[0m  0.1826\n"
     ]
    },
    {
     "name": "stdout",
     "output_type": "stream",
     "text": [
      "      7        \u001b[36m0.6502\u001b[0m       0.4997        \u001b[35m0.9535\u001b[0m  0.1815\n"
     ]
    },
    {
     "name": "stdout",
     "output_type": "stream",
     "text": [
      "      8        \u001b[36m0.6491\u001b[0m       0.4997        \u001b[35m0.9504\u001b[0m  0.1816\n"
     ]
    },
    {
     "name": "stdout",
     "output_type": "stream",
     "text": [
      "      9        \u001b[36m0.6483\u001b[0m       0.4997        \u001b[35m0.9471\u001b[0m  0.1845\n"
     ]
    },
    {
     "name": "stdout",
     "output_type": "stream",
     "text": [
      "     10        \u001b[36m0.6476\u001b[0m       0.4997        \u001b[35m0.9437\u001b[0m  0.1827\n"
     ]
    },
    {
     "name": "stdout",
     "output_type": "stream",
     "text": [
      "     11        \u001b[36m0.6470\u001b[0m       0.4997        \u001b[35m0.9404\u001b[0m  0.1834\n"
     ]
    },
    {
     "name": "stdout",
     "output_type": "stream",
     "text": [
      "     12        \u001b[36m0.6465\u001b[0m       0.4997        \u001b[35m0.9371\u001b[0m  0.1823\n"
     ]
    },
    {
     "name": "stdout",
     "output_type": "stream",
     "text": [
      "     13        \u001b[36m0.6460\u001b[0m       0.4997        \u001b[35m0.9337\u001b[0m  0.1818\n"
     ]
    },
    {
     "name": "stdout",
     "output_type": "stream",
     "text": [
      "     14        \u001b[36m0.6456\u001b[0m       0.4997        \u001b[35m0.9304\u001b[0m  0.1825\n"
     ]
    },
    {
     "name": "stdout",
     "output_type": "stream",
     "text": [
      "     15        \u001b[36m0.6452\u001b[0m       0.4997        \u001b[35m0.9272\u001b[0m  0.1822\n"
     ]
    },
    {
     "name": "stdout",
     "output_type": "stream",
     "text": [
      "     16        \u001b[36m0.6448\u001b[0m       0.4997        \u001b[35m0.9240\u001b[0m  0.1823\n"
     ]
    },
    {
     "name": "stdout",
     "output_type": "stream",
     "text": [
      "     17        \u001b[36m0.6444\u001b[0m       0.4997        \u001b[35m0.9209\u001b[0m  0.1836\n"
     ]
    },
    {
     "name": "stdout",
     "output_type": "stream",
     "text": [
      "     18        \u001b[36m0.6441\u001b[0m       0.4997        \u001b[35m0.9178\u001b[0m  0.1827\n"
     ]
    },
    {
     "name": "stdout",
     "output_type": "stream",
     "text": [
      "     19        \u001b[36m0.6438\u001b[0m       0.4997        \u001b[35m0.9147\u001b[0m  0.1824\n"
     ]
    },
    {
     "name": "stdout",
     "output_type": "stream",
     "text": [
      "     20        \u001b[36m0.6436\u001b[0m       0.4997        \u001b[35m0.9116\u001b[0m  0.1822\n"
     ]
    },
    {
     "name": "stdout",
     "output_type": "stream",
     "text": [
      "     21        \u001b[36m0.6433\u001b[0m       0.4997        \u001b[35m0.9086\u001b[0m  0.1818\n"
     ]
    },
    {
     "name": "stdout",
     "output_type": "stream",
     "text": [
      "     22        \u001b[36m0.6431\u001b[0m       0.4997        \u001b[35m0.9056\u001b[0m  0.1820\n"
     ]
    },
    {
     "name": "stdout",
     "output_type": "stream",
     "text": [
      "     23        \u001b[36m0.6429\u001b[0m       0.4997        \u001b[35m0.9027\u001b[0m  0.1878\n"
     ]
    },
    {
     "name": "stdout",
     "output_type": "stream",
     "text": [
      "     24        \u001b[36m0.6427\u001b[0m       0.4997        \u001b[35m0.8998\u001b[0m  0.1818\n"
     ]
    },
    {
     "name": "stdout",
     "output_type": "stream",
     "text": [
      "     25        \u001b[36m0.6425\u001b[0m       0.4997        \u001b[35m0.8970\u001b[0m  0.1819\n"
     ]
    },
    {
     "name": "stdout",
     "output_type": "stream",
     "text": [
      "     26        \u001b[36m0.6423\u001b[0m       0.4997        \u001b[35m0.8942\u001b[0m  0.1822\n"
     ]
    },
    {
     "name": "stdout",
     "output_type": "stream",
     "text": [
      "     27        \u001b[36m0.6422\u001b[0m       0.4997        \u001b[35m0.8914\u001b[0m  0.1818\n"
     ]
    },
    {
     "name": "stdout",
     "output_type": "stream",
     "text": [
      "     28        \u001b[36m0.6420\u001b[0m       0.4997        \u001b[35m0.8887\u001b[0m  0.1814\n"
     ]
    },
    {
     "name": "stdout",
     "output_type": "stream",
     "text": [
      "     29        \u001b[36m0.6419\u001b[0m       0.4997        \u001b[35m0.8860\u001b[0m  0.1829\n"
     ]
    },
    {
     "name": "stdout",
     "output_type": "stream",
     "text": [
      "     30        \u001b[36m0.6417\u001b[0m       0.4997        \u001b[35m0.8834\u001b[0m  0.1865\n"
     ]
    },
    {
     "name": "stdout",
     "output_type": "stream",
     "text": [
      "     31        \u001b[36m0.6416\u001b[0m       0.4997        \u001b[35m0.8809\u001b[0m  0.1820\n"
     ]
    },
    {
     "name": "stdout",
     "output_type": "stream",
     "text": [
      "     32        \u001b[36m0.6415\u001b[0m       0.4997        \u001b[35m0.8783\u001b[0m  0.1823\n"
     ]
    },
    {
     "name": "stdout",
     "output_type": "stream",
     "text": [
      "     33        \u001b[36m0.6414\u001b[0m       0.4997        \u001b[35m0.8759\u001b[0m  0.1821\n"
     ]
    },
    {
     "name": "stdout",
     "output_type": "stream",
     "text": [
      "     34        \u001b[36m0.6412\u001b[0m       0.4997        \u001b[35m0.8734\u001b[0m  0.1824\n"
     ]
    },
    {
     "name": "stdout",
     "output_type": "stream",
     "text": [
      "     35        \u001b[36m0.6411\u001b[0m       0.4997        \u001b[35m0.8710\u001b[0m  0.1841\n"
     ]
    },
    {
     "name": "stdout",
     "output_type": "stream",
     "text": [
      "     36        \u001b[36m0.6411\u001b[0m       0.4997        \u001b[35m0.8687\u001b[0m  0.1835\n"
     ]
    },
    {
     "name": "stdout",
     "output_type": "stream",
     "text": [
      "     37        \u001b[36m0.6409\u001b[0m       0.4997        \u001b[35m0.8664\u001b[0m  0.1826\n"
     ]
    },
    {
     "name": "stdout",
     "output_type": "stream",
     "text": [
      "     38        \u001b[36m0.6408\u001b[0m       0.4997        \u001b[35m0.8641\u001b[0m  0.1830\n"
     ]
    },
    {
     "name": "stdout",
     "output_type": "stream",
     "text": [
      "     39        \u001b[36m0.6407\u001b[0m       0.4997        \u001b[35m0.8619\u001b[0m  0.1822\n"
     ]
    },
    {
     "name": "stdout",
     "output_type": "stream",
     "text": [
      "     40        \u001b[36m0.6407\u001b[0m       0.4997        \u001b[35m0.8597\u001b[0m  0.1859\n"
     ]
    },
    {
     "name": "stdout",
     "output_type": "stream",
     "text": [
      "     41        \u001b[36m0.6406\u001b[0m       0.4997        \u001b[35m0.8576\u001b[0m  0.1819\n"
     ]
    },
    {
     "name": "stdout",
     "output_type": "stream",
     "text": [
      "     42        \u001b[36m0.6405\u001b[0m       0.4997        \u001b[35m0.8555\u001b[0m  0.1851\n"
     ]
    },
    {
     "name": "stdout",
     "output_type": "stream",
     "text": [
      "     43        \u001b[36m0.6404\u001b[0m       0.4997        \u001b[35m0.8534\u001b[0m  0.1827\n"
     ]
    },
    {
     "name": "stdout",
     "output_type": "stream",
     "text": [
      "     44        \u001b[36m0.6403\u001b[0m       0.4997        \u001b[35m0.8514\u001b[0m  0.1916\n"
     ]
    },
    {
     "name": "stdout",
     "output_type": "stream",
     "text": [
      "     45        \u001b[36m0.6403\u001b[0m       0.4997        \u001b[35m0.8495\u001b[0m  0.1824\n"
     ]
    },
    {
     "name": "stdout",
     "output_type": "stream",
     "text": [
      "     46        \u001b[36m0.6402\u001b[0m       0.4997        \u001b[35m0.8475\u001b[0m  0.1829\n"
     ]
    },
    {
     "name": "stdout",
     "output_type": "stream",
     "text": [
      "     47        \u001b[36m0.6401\u001b[0m       0.4997        \u001b[35m0.8457\u001b[0m  0.1828\n"
     ]
    },
    {
     "name": "stdout",
     "output_type": "stream",
     "text": [
      "     48        \u001b[36m0.6401\u001b[0m       0.4997        \u001b[35m0.8438\u001b[0m  0.1866\n"
     ]
    },
    {
     "name": "stdout",
     "output_type": "stream",
     "text": [
      "     49        \u001b[36m0.6400\u001b[0m       0.4997        \u001b[35m0.8420\u001b[0m  0.1839\n"
     ]
    },
    {
     "name": "stdout",
     "output_type": "stream",
     "text": [
      "     50        \u001b[36m0.6400\u001b[0m       0.4997        \u001b[35m0.8402\u001b[0m  0.1827\n"
     ]
    },
    {
     "name": "stdout",
     "output_type": "stream",
     "text": [
      "     51        \u001b[36m0.6399\u001b[0m       0.4997        \u001b[35m0.8386\u001b[0m  0.1846\n"
     ]
    },
    {
     "name": "stdout",
     "output_type": "stream",
     "text": [
      "     52        \u001b[36m0.6399\u001b[0m       0.4997        \u001b[35m0.8369\u001b[0m  0.1853\n"
     ]
    },
    {
     "name": "stdout",
     "output_type": "stream",
     "text": [
      "     53        \u001b[36m0.6399\u001b[0m       0.4997        \u001b[35m0.8353\u001b[0m  0.1829\n"
     ]
    },
    {
     "name": "stdout",
     "output_type": "stream",
     "text": [
      "     54        \u001b[36m0.6398\u001b[0m       0.4997        \u001b[35m0.8337\u001b[0m  0.1827\n"
     ]
    },
    {
     "name": "stdout",
     "output_type": "stream",
     "text": [
      "     55        \u001b[36m0.6398\u001b[0m       0.4997        \u001b[35m0.8321\u001b[0m  0.1829\n"
     ]
    },
    {
     "name": "stdout",
     "output_type": "stream",
     "text": [
      "     56        \u001b[36m0.6397\u001b[0m       0.4997        \u001b[35m0.8306\u001b[0m  0.1823\n"
     ]
    },
    {
     "name": "stdout",
     "output_type": "stream",
     "text": [
      "     57        \u001b[36m0.6397\u001b[0m       0.4997        \u001b[35m0.8291\u001b[0m  0.1821\n"
     ]
    },
    {
     "name": "stdout",
     "output_type": "stream",
     "text": [
      "     58        \u001b[36m0.6397\u001b[0m       0.4997        \u001b[35m0.8277\u001b[0m  0.1825\n"
     ]
    },
    {
     "name": "stdout",
     "output_type": "stream",
     "text": [
      "     59        \u001b[36m0.6397\u001b[0m       0.4997        \u001b[35m0.8262\u001b[0m  0.1831\n"
     ]
    },
    {
     "name": "stdout",
     "output_type": "stream",
     "text": [
      "     60        \u001b[36m0.6396\u001b[0m       0.4997        \u001b[35m0.8248\u001b[0m  0.1840\n"
     ]
    },
    {
     "name": "stdout",
     "output_type": "stream",
     "text": [
      "     61        \u001b[36m0.6396\u001b[0m       0.4997        \u001b[35m0.8234\u001b[0m  0.1832\n"
     ]
    },
    {
     "name": "stdout",
     "output_type": "stream",
     "text": [
      "     62        \u001b[36m0.6396\u001b[0m       0.4997        \u001b[35m0.8221\u001b[0m  0.1833\n"
     ]
    },
    {
     "name": "stdout",
     "output_type": "stream",
     "text": [
      "     63        \u001b[36m0.6396\u001b[0m       0.4997        \u001b[35m0.8208\u001b[0m  0.1862\n"
     ]
    },
    {
     "name": "stdout",
     "output_type": "stream",
     "text": [
      "     64        \u001b[36m0.6396\u001b[0m       0.4997        \u001b[35m0.8195\u001b[0m  0.1837\n"
     ]
    },
    {
     "name": "stdout",
     "output_type": "stream",
     "text": [
      "     65        \u001b[36m0.6395\u001b[0m       0.4997        \u001b[35m0.8182\u001b[0m  0.1829\n"
     ]
    },
    {
     "name": "stdout",
     "output_type": "stream",
     "text": [
      "     66        \u001b[36m0.6395\u001b[0m       0.4997        \u001b[35m0.8170\u001b[0m  0.1838\n"
     ]
    },
    {
     "name": "stdout",
     "output_type": "stream",
     "text": [
      "     67        \u001b[36m0.6395\u001b[0m       0.4997        \u001b[35m0.8159\u001b[0m  0.1830\n"
     ]
    },
    {
     "name": "stdout",
     "output_type": "stream",
     "text": [
      "     68        0.6396       0.4997        \u001b[35m0.8147\u001b[0m  0.1829\n"
     ]
    },
    {
     "name": "stdout",
     "output_type": "stream",
     "text": [
      "     69        0.6395       0.4997        \u001b[35m0.8136\u001b[0m  0.1861\n"
     ]
    },
    {
     "name": "stdout",
     "output_type": "stream",
     "text": [
      "     70        0.6395       0.4997        \u001b[35m0.8124\u001b[0m  0.1855\n"
     ]
    },
    {
     "name": "stdout",
     "output_type": "stream",
     "text": [
      "     71        \u001b[36m0.6395\u001b[0m       0.4997        \u001b[35m0.8113\u001b[0m  0.1842\n"
     ]
    },
    {
     "name": "stdout",
     "output_type": "stream",
     "text": [
      "     72        0.6395       0.4997        \u001b[35m0.8103\u001b[0m  0.1864\n"
     ]
    },
    {
     "name": "stdout",
     "output_type": "stream",
     "text": [
      "     73        \u001b[36m0.6395\u001b[0m       0.4997        \u001b[35m0.8092\u001b[0m  0.1845\n"
     ]
    },
    {
     "name": "stdout",
     "output_type": "stream",
     "text": [
      "     74        0.6395       0.4997        \u001b[35m0.8082\u001b[0m  0.1892\n"
     ]
    },
    {
     "name": "stdout",
     "output_type": "stream",
     "text": [
      "     75        0.6395       0.4997        \u001b[35m0.8072\u001b[0m  0.1852\n"
     ]
    },
    {
     "name": "stdout",
     "output_type": "stream",
     "text": [
      "     76        0.6395       0.4997        \u001b[35m0.8062\u001b[0m  0.1853\n"
     ]
    },
    {
     "name": "stdout",
     "output_type": "stream",
     "text": [
      "     77        \u001b[36m0.6395\u001b[0m       0.4997        \u001b[35m0.8052\u001b[0m  0.1876\n"
     ]
    },
    {
     "name": "stdout",
     "output_type": "stream",
     "text": [
      "     78        0.6395       0.4997        \u001b[35m0.8043\u001b[0m  0.1862\n"
     ]
    },
    {
     "name": "stdout",
     "output_type": "stream",
     "text": [
      "     79        0.6395       0.4997        \u001b[35m0.8033\u001b[0m  0.1891\n"
     ]
    },
    {
     "name": "stdout",
     "output_type": "stream",
     "text": [
      "     80        0.6395       0.4997        \u001b[35m0.8025\u001b[0m  0.1859\n"
     ]
    },
    {
     "name": "stdout",
     "output_type": "stream",
     "text": [
      "     81        0.6395       0.4997        \u001b[35m0.8015\u001b[0m  0.1899\n"
     ]
    },
    {
     "name": "stdout",
     "output_type": "stream",
     "text": [
      "     82        0.6395       0.4997        \u001b[35m0.8006\u001b[0m  0.1847\n"
     ]
    },
    {
     "name": "stdout",
     "output_type": "stream",
     "text": [
      "     83        0.6395       0.4997        \u001b[35m0.7998\u001b[0m  0.1840\n"
     ]
    },
    {
     "name": "stdout",
     "output_type": "stream",
     "text": [
      "     84        0.6395       0.4997        \u001b[35m0.7989\u001b[0m  0.1890\n"
     ]
    },
    {
     "name": "stdout",
     "output_type": "stream",
     "text": [
      "     85        0.6395       0.4997        \u001b[35m0.7981\u001b[0m  0.1840\n"
     ]
    },
    {
     "name": "stdout",
     "output_type": "stream",
     "text": [
      "     86        0.6395       0.4997        \u001b[35m0.7973\u001b[0m  0.1854\n"
     ]
    },
    {
     "name": "stdout",
     "output_type": "stream",
     "text": [
      "     87        0.6395       0.4997        \u001b[35m0.7966\u001b[0m  0.1844\n"
     ]
    },
    {
     "name": "stdout",
     "output_type": "stream",
     "text": [
      "     88        0.6395       0.4997        \u001b[35m0.7958\u001b[0m  0.1863\n"
     ]
    },
    {
     "name": "stdout",
     "output_type": "stream",
     "text": [
      "     89        0.6395       0.4997        \u001b[35m0.7950\u001b[0m  0.1843\n"
     ]
    },
    {
     "name": "stdout",
     "output_type": "stream",
     "text": [
      "     90        0.6395       0.4997        \u001b[35m0.7943\u001b[0m  0.1844\n"
     ]
    },
    {
     "name": "stdout",
     "output_type": "stream",
     "text": [
      "     91        0.6395       0.4997        \u001b[35m0.7936\u001b[0m  0.1846\n"
     ]
    },
    {
     "name": "stdout",
     "output_type": "stream",
     "text": [
      "     92        0.6395       0.4997        \u001b[35m0.7929\u001b[0m  0.1847\n"
     ]
    },
    {
     "name": "stdout",
     "output_type": "stream",
     "text": [
      "     93        0.6395       0.4997        \u001b[35m0.7922\u001b[0m  0.1846\n"
     ]
    },
    {
     "name": "stdout",
     "output_type": "stream",
     "text": [
      "     94        0.6395       0.4997        \u001b[35m0.7915\u001b[0m  0.1887\n"
     ]
    },
    {
     "name": "stdout",
     "output_type": "stream",
     "text": [
      "     95        0.6395       0.4997        \u001b[35m0.7908\u001b[0m  0.1844\n"
     ]
    },
    {
     "name": "stdout",
     "output_type": "stream",
     "text": [
      "     96        0.6395       0.4997        \u001b[35m0.7902\u001b[0m  0.1845\n"
     ]
    },
    {
     "name": "stdout",
     "output_type": "stream",
     "text": [
      "     97        0.6395       0.4997        \u001b[35m0.7895\u001b[0m  0.1877\n"
     ]
    },
    {
     "name": "stdout",
     "output_type": "stream",
     "text": [
      "     98        0.6395       0.4997        \u001b[35m0.7889\u001b[0m  0.1888\n"
     ]
    },
    {
     "name": "stdout",
     "output_type": "stream",
     "text": [
      "     99        0.6395       0.4997        \u001b[35m0.7883\u001b[0m  0.1847\n"
     ]
    },
    {
     "name": "stdout",
     "output_type": "stream",
     "text": [
      "    100        0.6395       0.4997        \u001b[35m0.7876\u001b[0m  0.1856\n"
     ]
    }
   ],
   "source": [
    "# Instantiate skorch's classifier and set the batch_size to n_samples_per_batch\n",
    "net = RegularizedNet(\n",
    "    MyBinaryClassifier,\n",
    "    max_epochs=100,\n",
    "    lr=0.01,\n",
    "    batch_size=32  # This is your actual desired batch size\n",
    ")\n",
    "\n",
    "# Fit the model with the flattened data\n",
    "net.fit(X_flat, y_flat);\n"
   ]
  }
 ],
 "metadata": {
  "kernelspec": {
   "argv": [
    "/home/leon/mambaforge/envs/dual_data/bin/python",
    "-m",
    "ipykernel_launcher",
    "-f",
    "{connection_file}"
   ],
   "display_name": "dual_data",
   "env": null,
   "interrupt_mode": "signal",
   "language": "python",
   "metadata": {
    "debugger": true
   },
   "name": "dual_data"
  },
  "name": "skorch.ipynb"
 },
 "nbformat": 4,
 "nbformat_minor": 5
}
